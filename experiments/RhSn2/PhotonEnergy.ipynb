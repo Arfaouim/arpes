{
 "cells": [
  {
   "cell_type": "code",
   "execution_count": null,
   "metadata": {
    "collapsed": true
   },
   "outputs": [],
   "source": [
    "%load_ext autoreload\n",
    "%autoreload 2\n",
    "import numpy as np\n",
    "import scipy\n",
    "from arpes.utilities.conversion import convert_coordinates\n",
    "\n",
    "import xarray as xr\n",
    "import matplotlib.pyplot as plt\n",
    "%matplotlib inline\n"
   ]
  },
  {
   "cell_type": "code",
   "execution_count": null,
   "metadata": {},
   "outputs": [],
   "source": [
    "# Core #\n",
    "import json\n",
    "import os\n",
    "import re\n",
    "\n",
    "# IO\n",
    "import h5py\n",
    "\n",
    "# Science And Plotting #\n",
    "import matplotlib\n",
    "import xarray as xr\n",
    "import numpy as np\n",
    "import matplotlib.pyplot as plt\n",
    "import seaborn as sns\n",
    "\n",
    "import holoviews as hv\n",
    "import holoviews.util\n",
    "hv.extension('matplotlib')\n",
    "\n",
    "sns.set()\n",
    "\n",
    "from scipy import optimize\n",
    "\n",
    "# Analysis #\n",
    "import arpes\n",
    "import arpes.config\n",
    "from arpes.models.spectrum import DLD_Spectrum_factory, load_SES\n",
    "from arpes.models.view import View\n",
    "\n",
    "# Jupyter #\n",
    "from ipywidgets import interact, interactive, fixed\n",
    "import ipywidgets as widgets\n",
    "\n",
    "# Configure Jupyter #\n",
    "%matplotlib inline\n",
    "%config InlineBackend.figure_format = 'retina'\n"
   ]
  }
 ],
 "metadata": {
  "kernelspec": {
   "display_name": "Python 2",
   "language": "python",
   "name": "python2"
  },
  "language_info": {
   "codemirror_mode": {
    "name": "ipython",
    "version": 2
   },
   "file_extension": ".py",
   "mimetype": "text/x-python",
   "name": "python",
   "nbconvert_exporter": "python",
   "pygments_lexer": "ipython2",
   "version": "2.7.6"
  }
 },
 "nbformat": 4,
 "nbformat_minor": 0
}
