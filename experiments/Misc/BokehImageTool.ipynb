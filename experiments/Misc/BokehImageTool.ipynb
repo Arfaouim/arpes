{
 "cells": [
  {
   "cell_type": "code",
   "execution_count": 1,
   "metadata": {},
   "outputs": [],
   "source": [
    "%load_ext autoreload\n",
    "%autoreload 2\n",
    "import numpy as np\n",
    "import scipy\n",
    "\n",
    "import xarray as xr\n",
    "import matplotlib.pyplot as plt\n",
    "%matplotlib inline\n",
    "import sys\n",
    "sys.path.append('/Users/chstansbury/PyCharmProjects/python-arpes/')\n",
    "from bokeh.io import show, output_notebook"
   ]
  },
  {
   "cell_type": "code",
   "execution_count": 2,
   "metadata": {},
   "outputs": [],
   "source": [
    "from arpes.plotting.interactive import bokeh_tool\n",
    "from bokeh.application.handlers import FunctionHandler\n",
    "from bokeh.application import Application\n",
    "\n",
    "import numpy as np\n",
    "import pandas as pd\n",
    "from arpes.config import SOURCE_PATH\n",
    "import os.path\n",
    "import matplotlib.pyplot as plt\n",
    "%matplotlib notebook\n",
    "\n",
    "from arpes.config import SOURCE_PATH\n",
    "from arpes.utilities import clean_xlsx_dataset\n",
    "from arpes.io import load_dataset\n",
    "from arpes.utilities.conversion import convert_to_kspace"
   ]
  },
  {
   "cell_type": "code",
   "execution_count": 3,
   "metadata": {},
   "outputs": [],
   "source": [
    "ds = clean_xlsx_dataset(os.path.join(SOURCE_PATH, 'datasets/MoWTe2/20170725_MoWTe2.xlsx'))"
   ]
  },
  {
   "cell_type": "code",
   "execution_count": 4,
   "metadata": {},
   "outputs": [
    {
     "name": "stderr",
     "output_type": "stream",
     "text": [
      "/Users/chstansbury/PyCharmProjects/python-arpes/arpes/io.py:116: UserWarning: Could not fetch cleave information.\n",
      "  warnings.warn('Could not fetch cleave information.')\n"
     ]
    }
   ],
   "source": [
    "test_scan = load_dataset(ds.loc['f00058', ('id',)]).sum('cycle', keep_attrs=True)"
   ]
  },
  {
   "cell_type": "code",
   "execution_count": null,
   "metadata": {},
   "outputs": [],
   "source": []
  },
  {
   "cell_type": "code",
   "execution_count": 91,
   "metadata": {},
   "outputs": [],
   "source": [
    "handler = FunctionHandler(bokeh_tool(test_scan, app_main_size=500, app_marginal_size=300))\n",
    "app = Application(handler)"
   ]
  },
  {
   "cell_type": "code",
   "execution_count": 92,
   "metadata": {
    "scrolled": false
   },
   "outputs": [
    {
     "data": {
      "application/vnd.bokehjs_exec.v0+json": "",
      "text/html": [
       "\n",
       "<script\n",
       "    src=\"http://localhost:52976/autoload.js?bokeh-autoload-element=7543b6ff-dc7b-4499-bfee-c7972936f36d&bokeh-absolute-url=http://localhost:52976\"\n",
       "    id=\"7543b6ff-dc7b-4499-bfee-c7972936f36d\"\n",
       "    data-bokeh-model-id=\"\"\n",
       "    data-bokeh-doc-id=\"\"\n",
       "></script>"
      ]
     },
     "metadata": {
      "application/vnd.bokehjs_exec.v0+json": {
       "server_id": "6f3e4c41fe49470e91eb3aefd9ec83d6"
      }
     },
     "output_type": "display_data"
    }
   ],
   "source": [
    "show(app, notebook_url='localhost:8888', notebook_handle=True)"
   ]
  },
  {
   "cell_type": "code",
   "execution_count": null,
   "metadata": {},
   "outputs": [],
   "source": []
  },
  {
   "cell_type": "code",
   "execution_count": null,
   "metadata": {},
   "outputs": [],
   "source": []
  }
 ],
 "metadata": {
  "kernelspec": {
   "display_name": "Python 3",
   "language": "python",
   "name": "python3"
  },
  "language_info": {
   "codemirror_mode": {
    "name": "ipython",
    "version": 3
   },
   "file_extension": ".py",
   "mimetype": "text/x-python",
   "name": "python",
   "nbconvert_exporter": "python",
   "pygments_lexer": "ipython3",
   "version": "3.5.4"
  }
 },
 "nbformat": 4,
 "nbformat_minor": 1
}
